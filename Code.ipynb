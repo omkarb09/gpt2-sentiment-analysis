{
 "cells": [
  {
   "cell_type": "code",
   "execution_count": 1,
   "id": "89f951c8-7846-43bb-b803-b4426dd054a5",
   "metadata": {},
   "outputs": [],
   "source": [
    "import math\n",
    "import tensorflow as tf\n",
    "from transformers import GPT2Tokenizer, TFGPT2Model"
   ]
  },
  {
   "cell_type": "code",
   "execution_count": 2,
   "id": "158e6517-88bc-4855-afe5-a571411a4a5d",
   "metadata": {},
   "outputs": [],
   "source": [
    "import pandas as pd"
   ]
  },
  {
   "cell_type": "code",
   "execution_count": 9,
   "id": "fadc98ef-77fd-4d36-a0c9-350dafc27f0d",
   "metadata": {},
   "outputs": [],
   "source": [
    "labels=['target','text']\n",
    "df = pd.read_csv('encode_reduced_tweet_data.csv')\n",
    "df.columns=labels"
   ]
  },
  {
   "cell_type": "code",
   "execution_count": 22,
   "id": "6ec81b95-855e-41b2-a776-91b136f542c9",
   "metadata": {},
   "outputs": [
    {
     "data": {
      "text/plain": [
       "(2999, 2)"
      ]
     },
     "execution_count": 22,
     "metadata": {},
     "output_type": "execute_result"
    }
   ],
   "source": [
    "df.shape"
   ]
  },
  {
   "cell_type": "code",
   "execution_count": 11,
   "id": "9cefd74b-ef2a-4c6c-ad7b-0d4f5e437cc6",
   "metadata": {},
   "outputs": [
    {
     "data": {
      "text/plain": [
       "array(['Negative', 'Positive'], dtype=object)"
      ]
     },
     "execution_count": 11,
     "metadata": {},
     "output_type": "execute_result"
    }
   ],
   "source": [
    "df.target.unique()"
   ]
  },
  {
   "cell_type": "code",
   "execution_count": 12,
   "id": "1bef81e0-312f-4ca2-9a5d-eaedc2ae77c9",
   "metadata": {},
   "outputs": [],
   "source": [
    "from sklearn.model_selection import train_test_split"
   ]
  },
  {
   "cell_type": "code",
   "execution_count": 13,
   "id": "b9285817-1081-4f50-a613-777c7e60e45e",
   "metadata": {},
   "outputs": [],
   "source": [
    "X = df[\"text\"]\n",
    "y = df[\"target\"]"
   ]
  },
  {
   "cell_type": "code",
   "execution_count": 14,
   "id": "3ea84994-1b26-4092-bb12-960318b6168d",
   "metadata": {},
   "outputs": [],
   "source": [
    "X_train, X_test, y_train, y_test = train_test_split(X, y, stratify=y)"
   ]
  },
  {
   "cell_type": "code",
   "execution_count": 17,
   "id": "2ed8731d-c3a2-47c8-9902-6b410b02267b",
   "metadata": {},
   "outputs": [
    {
     "data": {
      "text/plain": [
       "20"
      ]
     },
     "execution_count": 17,
     "metadata": {},
     "output_type": "execute_result"
    }
   ],
   "source": [
    "MAX_LENGTH = math.ceil((X_train.apply(lambda x: len(str(x).split())).mean()))+6\n",
    "MAX_LENGTH"
   ]
  },
  {
   "cell_type": "code",
   "execution_count": 18,
   "id": "765373dd-15ee-49f0-843d-3f5344aad620",
   "metadata": {},
   "outputs": [
    {
     "name": "stderr",
     "output_type": "stream",
     "text": [
      "Special tokens have been added in the vocabulary, make sure the associated word embeddings are fine-tuned or trained.\n"
     ]
    }
   ],
   "source": [
    "PAD_TOKEN = \"<|pad|>\"\n",
    "EOS_TOKEN = \"<|endoftext|>\"\n",
    "\n",
    "# this will download and initialize the pre trained tokenizer\n",
    "tokenizer = GPT2Tokenizer.from_pretrained(\"gpt2\",\n",
    "    pad_token=PAD_TOKEN,\n",
    "    eos_token=EOS_TOKEN,\n",
    "    max_length=MAX_LENGTH,\n",
    "    is_split_into_words=True)"
   ]
  },
  {
   "cell_type": "code",
   "execution_count": 19,
   "id": "5c4c36af-fce2-4386-ae6c-c96afcd9f2ca",
   "metadata": {},
   "outputs": [
    {
     "data": {
      "text/plain": [
       "\"ok I'm sick and spent an hour sitting in the shower cause I was too sick to stand and held back the puke like a champ. BED now <|endoftext|>\""
      ]
     },
     "execution_count": 19,
     "metadata": {},
     "output_type": "execute_result"
    }
   ],
   "source": [
    "X_train = [str(ex) + EOS_TOKEN for ex in X_train]\n",
    "X_test = [str(ex) + EOS_TOKEN for ex in X_test]\n",
    "X_train[0]"
   ]
  },
  {
   "cell_type": "code",
   "execution_count": 20,
   "id": "079e2df9-f44a-4402-ae2c-8fa1e9c10809",
   "metadata": {},
   "outputs": [
    {
     "name": "stderr",
     "output_type": "stream",
     "text": [
      "E:\\Softwares\\Anaconda\\lib\\site-packages\\transformers\\tokenization_utils_base.py:2339: FutureWarning: The `pad_to_max_length` argument is deprecated and will be removed in a future version, use `padding=True` or `padding='longest'` to pad to the longest sequence in the batch, or use `padding='max_length'` to pad to a max length. In this case, you can give a specific length with `max_length` (e.g. `max_length=45`) or leave max_length to None to pad to the maximal input size of the model (e.g. 512 for Bert).\n",
      "  warnings.warn(\n"
     ]
    }
   ],
   "source": [
    "X_train_ = [tokenizer(str(x), return_tensors='tf', max_length=MAX_LENGTH, truncation=True, pad_to_max_length=True, add_special_tokens=True)['input_ids'] for x in X_train]\n",
    "X_test_ = [tokenizer(str(x), return_tensors='tf', max_length=MAX_LENGTH, truncation=True, pad_to_max_length=True, add_special_tokens=True)['input_ids'] for x in X_test]\n",
    "\n",
    "X_train_in = tf.squeeze(tf.convert_to_tensor(X_train_), axis=1)\n",
    "X_test_in = tf.squeeze(tf.convert_to_tensor(X_test_), axis=1)"
   ]
  },
  {
   "cell_type": "code",
   "execution_count": 23,
   "id": "66cb24af-717e-4ac9-bffc-6f5469dd6bdf",
   "metadata": {},
   "outputs": [
    {
     "data": {
      "text/plain": [
       "<tf.Tensor: shape=(20,), dtype=int32, numpy=\n",
       "array([  482,   314,  1101,  6639,   290,  3377,   281,  1711,  5586,\n",
       "         287,   262, 14643,  2728,   314,   373,  1165,  6639,   284,\n",
       "        1302,   290])>"
      ]
     },
     "execution_count": 23,
     "metadata": {},
     "output_type": "execute_result"
    }
   ],
   "source": [
    "X_train_in[0]"
   ]
  },
  {
   "cell_type": "code",
   "execution_count": 24,
   "id": "88256618-9341-467e-982a-696abbb511aa",
   "metadata": {},
   "outputs": [],
   "source": [
    "X_train_mask_ = [tokenizer(str(x), return_tensors='tf', max_length=MAX_LENGTH, truncation=True, pad_to_max_length=True, add_special_tokens=True)[\"attention_mask\"] for x in X_train]\n",
    "X_test_mask_ = [tokenizer(str(x), return_tensors='tf', max_length=MAX_LENGTH, truncation=True, pad_to_max_length=True, add_special_tokens=True)[\"attention_mask\"] for x in X_test]\n",
    "\n",
    "X_train_mask = tf.squeeze(tf.convert_to_tensor(X_train_mask_), axis=1)\n",
    "X_test_mask = tf.squeeze(tf.convert_to_tensor(X_test_mask_), axis=1)"
   ]
  },
  {
   "cell_type": "code",
   "execution_count": 25,
   "id": "5b26d783-0286-44f4-b28c-b0ebdd9e7d78",
   "metadata": {},
   "outputs": [
    {
     "name": "stderr",
     "output_type": "stream",
     "text": [
      "All model checkpoint layers were used when initializing TFGPT2Model.\n",
      "\n",
      "All the layers of TFGPT2Model were initialized from the model checkpoint at gpt2.\n",
      "If your task is similar to the task the model of the checkpoint was trained on, you can already use TFGPT2Model for predictions without further training.\n"
     ]
    }
   ],
   "source": [
    "model = TFGPT2Model.from_pretrained(\"gpt2\", use_cache=False,\n",
    "        pad_token_id=tokenizer.pad_token_id,\n",
    "        eos_token_id=tokenizer.eos_token_id)\n",
    "model.training = True"
   ]
  },
  {
   "cell_type": "code",
   "execution_count": 26,
   "id": "d42eaa81-442b-4158-b6cd-ed60a5567ca9",
   "metadata": {},
   "outputs": [
    {
     "data": {
      "text/plain": [
       "<transformers.modeling_tf_utils.TFSharedEmbeddings at 0x25eee2b3b20>"
      ]
     },
     "execution_count": 26,
     "metadata": {},
     "output_type": "execute_result"
    }
   ],
   "source": [
    "model.resize_token_embeddings(len(tokenizer))"
   ]
  },
  {
   "cell_type": "code",
   "execution_count": 27,
   "id": "2063d74b-9d22-4b92-a9cf-ea89f3416990",
   "metadata": {},
   "outputs": [],
   "source": [
    "for layer in model.layers:\n",
    "    layer.trainable = False"
   ]
  },
  {
   "cell_type": "code",
   "execution_count": 28,
   "id": "0820efe4-be3e-4ce5-bce3-f015f5cf8f99",
   "metadata": {},
   "outputs": [
    {
     "name": "stdout",
     "output_type": "stream",
     "text": [
      "Model: \"tfgpt2_model\"\n",
      "_________________________________________________________________\n",
      " Layer (type)                Output Shape              Param #   \n",
      "=================================================================\n",
      " transformer (TFGPT2MainLaye  multiple                 124440576 \n",
      " r)                                                              \n",
      "                                                                 \n",
      "=================================================================\n",
      "Total params: 163,038,720\n",
      "Trainable params: 38,598,144\n",
      "Non-trainable params: 124,440,576\n",
      "_________________________________________________________________\n"
     ]
    }
   ],
   "source": [
    "model.summary()"
   ]
  },
  {
   "cell_type": "code",
   "execution_count": 29,
   "id": "5f81cffa-7c6a-4131-9694-3d6dc704a3f1",
   "metadata": {},
   "outputs": [],
   "source": [
    "input = tf.keras.layers.Input(shape=(None,), dtype='int32')\n",
    "mask = tf.keras.layers.Input(shape=(None,), dtype='int32')\n",
    "x = model(input, attention_mask=mask)\n",
    "#x = x.last_hidden_state[:, -1]\n",
    "x = tf.reduce_mean(x.last_hidden_state, axis=1)\n",
    "x = tf.keras.layers.Dense(16, activation='relu')(x)\n",
    "x = tf.keras.layers.Dropout(0.3)(x)\n",
    "output = tf.keras.layers.Dense(2, activation='softmax')(x)"
   ]
  },
  {
   "cell_type": "code",
   "execution_count": 30,
   "id": "142325d8-c20c-4cc8-bfa1-c14d0e8d69f9",
   "metadata": {},
   "outputs": [],
   "source": [
    "clf = tf.keras.Model([input, mask], output)"
   ]
  },
  {
   "cell_type": "code",
   "execution_count": 31,
   "id": "1c4703cf-2ede-4ed2-8726-84d7069b3551",
   "metadata": {},
   "outputs": [
    {
     "name": "stdout",
     "output_type": "stream",
     "text": [
      "Model: \"model\"\n",
      "__________________________________________________________________________________________________\n",
      " Layer (type)                   Output Shape         Param #     Connected to                     \n",
      "==================================================================================================\n",
      " input_1 (InputLayer)           [(None, None)]       0           []                               \n",
      "                                                                                                  \n",
      " input_2 (InputLayer)           [(None, None)]       0           []                               \n",
      "                                                                                                  \n",
      " tfgpt2_model (TFGPT2Model)     TFBaseModelOutputWi  124440576   ['input_1[0][0]',                \n",
      "                                thPastAndCrossAtten               'input_2[0][0]']                \n",
      "                                tions(last_hidden_s                                               \n",
      "                                tate=(None, None, 7                                               \n",
      "                                68),                                                              \n",
      "                                 past_key_values=No                                               \n",
      "                                ne, hidden_states=N                                               \n",
      "                                one, attentions=Non                                               \n",
      "                                e, cross_attentions                                               \n",
      "                                =None)                                                            \n",
      "                                                                                                  \n",
      " tf.math.reduce_mean (TFOpLambd  (None, 768)         0           ['tfgpt2_model[0][0]']           \n",
      " a)                                                                                               \n",
      "                                                                                                  \n",
      " dense (Dense)                  (None, 16)           12304       ['tf.math.reduce_mean[0][0]']    \n",
      "                                                                                                  \n",
      " dropout_37 (Dropout)           (None, 16)           0           ['dense[0][0]']                  \n",
      "                                                                                                  \n",
      " dense_1 (Dense)                (None, 2)            34          ['dropout_37[0][0]']             \n",
      "                                                                                                  \n",
      "==================================================================================================\n",
      "Total params: 163,051,058\n",
      "Trainable params: 38,610,482\n",
      "Non-trainable params: 124,440,576\n",
      "__________________________________________________________________________________________________\n"
     ]
    }
   ],
   "source": [
    "clf.summary()"
   ]
  },
  {
   "cell_type": "code",
   "execution_count": 32,
   "id": "73aa379a-4544-4e1d-b9f5-9201597fa5b4",
   "metadata": {},
   "outputs": [],
   "source": [
    "base_learning_rate = 0.0005\n",
    "optimizer=tf.keras.optimizers.Adam(learning_rate=base_learning_rate)\n",
    "#loss=tf.keras.losses.BinaryCrossentropy()\n",
    "loss=tf.keras.losses.SparseCategoricalCrossentropy()\n",
    "\n",
    "clf.compile(optimizer=optimizer, loss=loss, metrics=['accuracy'])"
   ]
  },
  {
   "cell_type": "code",
   "execution_count": 33,
   "id": "c9acdbb2-eefe-4bb1-a9ef-2497fbccc017",
   "metadata": {},
   "outputs": [],
   "source": [
    "callbacks = tf.keras.callbacks.EarlyStopping(\n",
    "        monitor=\"accuracy\", verbose=1, patience=3, restore_best_weights=True)"
   ]
  },
  {
   "cell_type": "code",
   "execution_count": 34,
   "id": "f29a1e46-3b73-4c21-9ee9-48e798849b93",
   "metadata": {},
   "outputs": [],
   "source": [
    "def map_sentiment(value):\n",
    "  if value == 'Negative':\n",
    "    return 0\n",
    "  if value == 'Positive':\n",
    "    return 1"
   ]
  },
  {
   "cell_type": "code",
   "execution_count": 35,
   "id": "2b06150d-43f6-468f-afa6-af08934dcd98",
   "metadata": {},
   "outputs": [],
   "source": [
    "y_train_ = y_train.map(map_sentiment)\n",
    "y_test_ = y_test.map(map_sentiment)"
   ]
  },
  {
   "cell_type": "code",
   "execution_count": 36,
   "id": "de579eba-b648-4721-ae93-5dd72f845adf",
   "metadata": {},
   "outputs": [
    {
     "data": {
      "text/plain": [
       "34      0\n",
       "901     0\n",
       "749     0\n",
       "2049    1\n",
       "1924    1\n",
       "       ..\n",
       "686     0\n",
       "2105    1\n",
       "1744    1\n",
       "596     0\n",
       "1717    1\n",
       "Name: target, Length: 2249, dtype: int64"
      ]
     },
     "execution_count": 36,
     "metadata": {},
     "output_type": "execute_result"
    }
   ],
   "source": [
    "y_train_"
   ]
  },
  {
   "cell_type": "code",
   "execution_count": 37,
   "id": "3700eb2d-7d49-4b16-8ac8-1618d8813a6d",
   "metadata": {},
   "outputs": [],
   "source": [
    "y_train_in = tf.constant(y_train_, dtype=tf.int32)\n",
    "y_test_in = tf.constant(y_test_, dtype=tf.int32)"
   ]
  },
  {
   "cell_type": "code",
   "execution_count": 38,
   "id": "c8056c94-32d9-42f2-a3e1-f933638dcead",
   "metadata": {},
   "outputs": [
    {
     "data": {
      "text/plain": [
       "<tf.Tensor: shape=(2249,), dtype=int32, numpy=array([0, 0, 0, ..., 1, 0, 1])>"
      ]
     },
     "execution_count": 38,
     "metadata": {},
     "output_type": "execute_result"
    }
   ],
   "source": [
    "y_train_in"
   ]
  },
  {
   "cell_type": "code",
   "execution_count": 39,
   "id": "5c3af9af-935b-493c-9085-0101549c5d39",
   "metadata": {},
   "outputs": [
    {
     "name": "stdout",
     "output_type": "stream",
     "text": [
      "WARNING:tensorflow:From C:\\Users\\Omkar\\AppData\\Local\\Temp\\ipykernel_1544\\2874510872.py:1: experimental_run_functions_eagerly (from tensorflow.python.eager.def_function) is deprecated and will be removed in a future version.\n",
      "Instructions for updating:\n",
      "Use `tf.config.run_functions_eagerly` instead of the experimental version.\n"
     ]
    }
   ],
   "source": [
    "tf.config.experimental_run_functions_eagerly(True)"
   ]
  },
  {
   "cell_type": "code",
   "execution_count": 40,
   "id": "6cd39e4c-683f-4794-aba6-88a05c893678",
   "metadata": {},
   "outputs": [
    {
     "name": "stderr",
     "output_type": "stream",
     "text": [
      "E:\\Softwares\\Anaconda\\lib\\site-packages\\tensorflow\\python\\data\\ops\\structured_function.py:264: UserWarning: Even though the `tf.config.experimental_run_functions_eagerly` option is set, this option does not apply to tf.data functions. To force eager execution of tf.data functions, please use `tf.data.experimental.enable_debug_mode()`.\n",
      "  warnings.warn(\n"
     ]
    },
    {
     "name": "stdout",
     "output_type": "stream",
     "text": [
      "Epoch 1/30\n",
      "57/57 [==============================] - 302s 5s/step - loss: 6.2233 - accuracy: 0.5136 - val_loss: 1.6516 - val_accuracy: 0.5311\n",
      "Epoch 2/30\n",
      "57/57 [==============================] - 287s 5s/step - loss: 2.7796 - accuracy: 0.5092 - val_loss: 1.0274 - val_accuracy: 0.5556\n",
      "Epoch 3/30\n",
      "57/57 [==============================] - 283s 5s/step - loss: 1.3368 - accuracy: 0.5425 - val_loss: 0.7895 - val_accuracy: 0.5689\n",
      "Epoch 4/30\n",
      "57/57 [==============================] - 293s 5s/step - loss: 0.7041 - accuracy: 0.5720 - val_loss: 0.7160 - val_accuracy: 0.5733\n",
      "Epoch 5/30\n",
      "57/57 [==============================] - 289s 5s/step - loss: 0.6579 - accuracy: 0.6020 - val_loss: 0.7151 - val_accuracy: 0.6111\n",
      "Epoch 6/30\n",
      "57/57 [==============================] - 280s 5s/step - loss: 0.6382 - accuracy: 0.6492 - val_loss: 0.7080 - val_accuracy: 0.5978\n",
      "Epoch 7/30\n",
      "57/57 [==============================] - 281s 5s/step - loss: 0.6118 - accuracy: 0.6604 - val_loss: 0.7034 - val_accuracy: 0.6200\n",
      "Epoch 8/30\n",
      "57/57 [==============================] - 287s 5s/step - loss: 0.5929 - accuracy: 0.6898 - val_loss: 0.6975 - val_accuracy: 0.6533\n",
      "Epoch 9/30\n",
      "57/57 [==============================] - 277s 5s/step - loss: 0.5653 - accuracy: 0.7032 - val_loss: 0.6985 - val_accuracy: 0.6556\n",
      "Epoch 10/30\n",
      "57/57 [==============================] - 279s 5s/step - loss: 0.5054 - accuracy: 0.7460 - val_loss: 0.7017 - val_accuracy: 0.6689\n",
      "Epoch 11/30\n",
      "57/57 [==============================] - 281s 5s/step - loss: 0.4748 - accuracy: 0.7738 - val_loss: 0.7032 - val_accuracy: 0.6711\n",
      "Epoch 12/30\n",
      "57/57 [==============================] - 286s 5s/step - loss: 0.4067 - accuracy: 0.8177 - val_loss: 0.7184 - val_accuracy: 0.6778\n",
      "Epoch 13/30\n",
      "57/57 [==============================] - 281s 5s/step - loss: 0.3751 - accuracy: 0.8266 - val_loss: 0.7525 - val_accuracy: 0.6578\n",
      "Epoch 14/30\n",
      "57/57 [==============================] - 278s 5s/step - loss: 0.3094 - accuracy: 0.8722 - val_loss: 0.7597 - val_accuracy: 0.6622\n",
      "Epoch 15/30\n",
      "57/57 [==============================] - 284s 5s/step - loss: 0.2727 - accuracy: 0.8905 - val_loss: 0.7843 - val_accuracy: 0.6822\n",
      "Epoch 16/30\n",
      "57/57 [==============================] - 279s 5s/step - loss: 0.2141 - accuracy: 0.9200 - val_loss: 0.8290 - val_accuracy: 0.6756\n",
      "Epoch 17/30\n",
      "57/57 [==============================] - 286s 5s/step - loss: 0.1890 - accuracy: 0.9355 - val_loss: 0.8234 - val_accuracy: 0.6644\n",
      "Epoch 18/30\n",
      "57/57 [==============================] - 289s 5s/step - loss: 0.1438 - accuracy: 0.9511 - val_loss: 0.8957 - val_accuracy: 0.6600\n",
      "Epoch 19/30\n",
      "57/57 [==============================] - 277s 5s/step - loss: 0.1184 - accuracy: 0.9622 - val_loss: 0.9401 - val_accuracy: 0.6644\n",
      "Epoch 20/30\n",
      "57/57 [==============================] - 289s 5s/step - loss: 0.1007 - accuracy: 0.9700 - val_loss: 1.0090 - val_accuracy: 0.6356\n",
      "Epoch 21/30\n",
      "57/57 [==============================] - 290s 5s/step - loss: 0.0824 - accuracy: 0.9794 - val_loss: 1.0520 - val_accuracy: 0.6467\n",
      "Epoch 22/30\n",
      "57/57 [==============================] - 283s 5s/step - loss: 0.0627 - accuracy: 0.9850 - val_loss: 1.1470 - val_accuracy: 0.6622\n",
      "Epoch 23/30\n",
      "57/57 [==============================] - 286s 5s/step - loss: 0.0611 - accuracy: 0.9767 - val_loss: 1.1313 - val_accuracy: 0.6600\n",
      "Epoch 24/30\n",
      "57/57 [==============================] - 282s 5s/step - loss: 0.0538 - accuracy: 0.9850 - val_loss: 1.2032 - val_accuracy: 0.6444\n",
      "Epoch 25/30\n",
      "57/57 [==============================] - 280s 5s/step - loss: 0.0411 - accuracy: 0.9867 - val_loss: 1.2617 - val_accuracy: 0.6400\n",
      "Epoch 26/30\n",
      "57/57 [==============================] - 285s 5s/step - loss: 0.0378 - accuracy: 0.9917 - val_loss: 1.2902 - val_accuracy: 0.6333\n",
      "Epoch 27/30\n",
      "57/57 [==============================] - 280s 5s/step - loss: 0.0332 - accuracy: 0.9906 - val_loss: 1.3590 - val_accuracy: 0.6311\n",
      "Epoch 28/30\n",
      "57/57 [==============================] - 291s 5s/step - loss: 0.0337 - accuracy: 0.9922 - val_loss: 1.3978 - val_accuracy: 0.6400\n",
      "Epoch 29/30\n",
      "57/57 [==============================] - 287s 5s/step - loss: 0.0293 - accuracy: 0.9950 - val_loss: 1.4363 - val_accuracy: 0.6378\n",
      "Epoch 30/30\n",
      "57/57 [==============================] - 295s 5s/step - loss: 0.0271 - accuracy: 0.9944 - val_loss: 1.4881 - val_accuracy: 0.6267\n"
     ]
    }
   ],
   "source": [
    "history = clf.fit([X_train_in, X_train_mask], y_train_in, epochs=30, batch_size=32, validation_split=0.2, callbacks=callbacks)"
   ]
  },
  {
   "cell_type": "code",
   "execution_count": 41,
   "id": "46261f14-0dd1-4aba-9a56-7111915e6361",
   "metadata": {},
   "outputs": [
    {
     "name": "stdout",
     "output_type": "stream",
     "text": [
      "24/24 [==============================] - 34s 1s/step - loss: 1.5850 - accuracy: 0.6227\n"
     ]
    },
    {
     "data": {
      "text/plain": [
       "[1.5849881172180176, 0.6226666569709778]"
      ]
     },
     "execution_count": 41,
     "metadata": {},
     "output_type": "execute_result"
    }
   ],
   "source": [
    "clf.evaluate([X_test_in, X_test_mask], y_test_in)"
   ]
  },
  {
   "cell_type": "code",
   "execution_count": 42,
   "id": "eea57345-6b57-4914-9fa2-5a36f20a4778",
   "metadata": {},
   "outputs": [
    {
     "name": "stdout",
     "output_type": "stream",
     "text": [
      "24/24 [==============================] - 37s 2s/step\n"
     ]
    }
   ],
   "source": [
    "clf.training = False\n",
    "y_pred = clf.predict([X_test_in, X_test_mask])"
   ]
  },
  {
   "cell_type": "code",
   "execution_count": 43,
   "id": "8c8d3ec5-f2ec-473e-b42e-a5a7eded3f82",
   "metadata": {},
   "outputs": [
    {
     "data": {
      "text/plain": [
       "array([[1.5181285e-01, 8.4818715e-01],\n",
       "       [9.1131055e-01, 8.8689484e-02],\n",
       "       [9.3918198e-01, 6.0818087e-02],\n",
       "       ...,\n",
       "       [3.6136894e-03, 9.9638629e-01],\n",
       "       [9.9947697e-01, 5.2311318e-04],\n",
       "       [9.9372512e-01, 6.2748753e-03]], dtype=float32)"
      ]
     },
     "execution_count": 43,
     "metadata": {},
     "output_type": "execute_result"
    }
   ],
   "source": [
    "y_pred"
   ]
  },
  {
   "cell_type": "code",
   "execution_count": 44,
   "id": "2eb4aec7-f678-4cb1-8429-b0ab5b57efe8",
   "metadata": {},
   "outputs": [
    {
     "data": {
      "text/plain": [
       "<tf.Tensor: shape=(750,), dtype=int64, numpy=\n",
       "array([1, 0, 0, 1, 0, 0, 1, 0, 1, 1, 1, 0, 0, 0, 0, 1, 1, 1, 0, 1, 1, 0,\n",
       "       0, 1, 0, 0, 0, 0, 1, 1, 0, 1, 1, 0, 1, 0, 1, 1, 0, 1, 1, 0, 1, 1,\n",
       "       0, 1, 1, 0, 1, 1, 1, 1, 1, 0, 0, 0, 0, 0, 0, 1, 0, 0, 0, 0, 1, 0,\n",
       "       0, 0, 0, 1, 0, 1, 1, 1, 0, 0, 1, 0, 0, 1, 0, 1, 1, 0, 0, 1, 0, 0,\n",
       "       1, 0, 1, 0, 0, 0, 0, 0, 1, 1, 0, 0, 0, 0, 1, 1, 0, 0, 1, 1, 0, 0,\n",
       "       0, 0, 0, 1, 0, 1, 1, 0, 1, 1, 1, 0, 1, 0, 0, 1, 0, 1, 0, 0, 0, 0,\n",
       "       0, 0, 1, 0, 0, 1, 1, 1, 1, 0, 0, 1, 0, 0, 0, 0, 1, 1, 1, 0, 1, 0,\n",
       "       1, 0, 1, 0, 0, 1, 1, 0, 0, 0, 0, 1, 1, 0, 0, 1, 0, 1, 0, 0, 0, 0,\n",
       "       0, 0, 1, 0, 0, 0, 0, 1, 0, 1, 0, 0, 0, 1, 1, 0, 1, 1, 1, 1, 0, 1,\n",
       "       1, 0, 1, 1, 0, 0, 0, 0, 0, 1, 1, 0, 0, 0, 1, 0, 0, 1, 0, 0, 1, 1,\n",
       "       0, 0, 1, 0, 0, 0, 0, 0, 0, 1, 1, 0, 1, 0, 1, 1, 0, 0, 0, 0, 0, 1,\n",
       "       1, 0, 0, 1, 1, 1, 1, 0, 0, 0, 0, 0, 0, 0, 1, 1, 1, 0, 0, 1, 0, 1,\n",
       "       0, 1, 1, 0, 0, 1, 1, 1, 1, 0, 1, 1, 1, 0, 0, 1, 0, 1, 0, 0, 1, 0,\n",
       "       1, 1, 0, 0, 1, 1, 0, 1, 0, 1, 0, 0, 1, 1, 0, 1, 0, 1, 1, 0, 0, 0,\n",
       "       1, 1, 0, 1, 0, 0, 0, 1, 1, 1, 1, 0, 0, 0, 0, 1, 1, 0, 0, 0, 1, 1,\n",
       "       0, 1, 0, 1, 1, 1, 0, 0, 1, 0, 1, 0, 0, 0, 0, 0, 0, 0, 1, 1, 0, 1,\n",
       "       0, 0, 0, 0, 0, 0, 0, 0, 0, 1, 1, 0, 0, 1, 1, 0, 0, 0, 0, 1, 0, 0,\n",
       "       1, 0, 0, 0, 0, 0, 1, 0, 1, 1, 0, 0, 1, 1, 0, 1, 1, 0, 0, 0, 0, 0,\n",
       "       1, 0, 1, 1, 1, 0, 0, 0, 1, 0, 1, 0, 1, 1, 0, 0, 0, 0, 1, 1, 0, 0,\n",
       "       0, 1, 1, 1, 0, 1, 1, 0, 0, 0, 0, 1, 0, 0, 1, 0, 0, 0, 0, 0, 1, 1,\n",
       "       0, 0, 0, 0, 1, 0, 0, 1, 0, 1, 0, 0, 1, 0, 1, 0, 1, 0, 1, 1, 1, 0,\n",
       "       1, 1, 0, 0, 0, 1, 1, 0, 1, 1, 0, 0, 0, 0, 1, 0, 0, 1, 1, 0, 1, 1,\n",
       "       1, 0, 1, 0, 0, 1, 0, 0, 1, 1, 0, 1, 0, 0, 1, 0, 1, 0, 0, 1, 0, 1,\n",
       "       1, 1, 1, 0, 0, 1, 1, 1, 0, 0, 1, 0, 0, 1, 0, 1, 1, 0, 0, 0, 1, 1,\n",
       "       1, 1, 0, 1, 1, 0, 0, 1, 1, 0, 0, 1, 0, 1, 0, 1, 0, 1, 0, 0, 1, 1,\n",
       "       0, 0, 0, 0, 0, 1, 1, 0, 1, 1, 0, 1, 0, 0, 1, 1, 0, 0, 0, 0, 0, 0,\n",
       "       0, 0, 0, 1, 0, 0, 0, 1, 0, 1, 0, 1, 1, 0, 0, 1, 1, 1, 0, 1, 1, 1,\n",
       "       0, 1, 1, 0, 0, 0, 1, 1, 0, 1, 0, 0, 1, 0, 1, 1, 1, 0, 1, 1, 0, 1,\n",
       "       0, 0, 1, 0, 1, 0, 1, 1, 0, 0, 1, 0, 0, 1, 0, 0, 0, 0, 1, 1, 0, 1,\n",
       "       0, 1, 1, 0, 0, 1, 1, 1, 0, 1, 0, 1, 0, 0, 1, 1, 1, 1, 0, 0, 1, 0,\n",
       "       1, 1, 0, 1, 0, 1, 0, 0, 0, 1, 1, 1, 1, 1, 1, 1, 0, 0, 1, 0, 0, 1,\n",
       "       0, 1, 0, 1, 0, 1, 1, 1, 0, 1, 0, 1, 0, 0, 0, 0, 0, 1, 0, 1, 0, 1,\n",
       "       0, 0, 0, 0, 0, 0, 0, 1, 0, 1, 0, 1, 1, 0, 0, 1, 0, 0, 0, 0, 0, 0,\n",
       "       1, 0, 0, 1, 1, 0, 1, 1, 1, 0, 0, 0, 0, 1, 0, 1, 1, 0, 1, 1, 0, 1,\n",
       "       0, 0], dtype=int64)>"
      ]
     },
     "execution_count": 44,
     "metadata": {},
     "output_type": "execute_result"
    }
   ],
   "source": [
    "y_pred_out = tf.math.argmax(y_pred, axis=-1)\n",
    "y_pred_out"
   ]
  },
  {
   "cell_type": "code",
   "execution_count": 63,
   "id": "2be6dd40-d91c-4af3-8d9b-aba350366322",
   "metadata": {},
   "outputs": [],
   "source": [
    "from matplotlib import pyplot as plt\n",
    "import seaborn as sns\n",
    "from sklearn.metrics import confusion_matrix\n",
    "from sklearn.metrics import classification_report\n",
    "import numpy as np"
   ]
  },
  {
   "cell_type": "code",
   "execution_count": 46,
   "id": "96ef1690-57a0-4b0a-85fd-f2e321fb75ef",
   "metadata": {},
   "outputs": [
    {
     "name": "stdout",
     "output_type": "stream",
     "text": [
      "              precision    recall  f1-score   support\n",
      "\n",
      "           0       0.61      0.68      0.64       375\n",
      "           1       0.64      0.57      0.60       375\n",
      "\n",
      "    accuracy                           0.62       750\n",
      "   macro avg       0.62      0.62      0.62       750\n",
      "weighted avg       0.62      0.62      0.62       750\n",
      "\n"
     ]
    }
   ],
   "source": [
    "print(classification_report(y_test_in, y_pred_out))"
   ]
  },
  {
   "cell_type": "code",
   "execution_count": 48,
   "id": "e5ba0092-202f-4bc7-bb55-5f65740bd0fe",
   "metadata": {},
   "outputs": [
    {
     "data": {
      "text/html": [
       "<div>\n",
       "<style scoped>\n",
       "    .dataframe tbody tr th:only-of-type {\n",
       "        vertical-align: middle;\n",
       "    }\n",
       "\n",
       "    .dataframe tbody tr th {\n",
       "        vertical-align: top;\n",
       "    }\n",
       "\n",
       "    .dataframe thead th {\n",
       "        text-align: right;\n",
       "    }\n",
       "</style>\n",
       "<table border=\"1\" class=\"dataframe\">\n",
       "  <thead>\n",
       "    <tr style=\"text-align: right;\">\n",
       "      <th></th>\n",
       "      <th>Predicted 0</th>\n",
       "      <th>Predicted 1</th>\n",
       "    </tr>\n",
       "  </thead>\n",
       "  <tbody>\n",
       "    <tr>\n",
       "      <th>Actual 0</th>\n",
       "      <td>255</td>\n",
       "      <td>120</td>\n",
       "    </tr>\n",
       "    <tr>\n",
       "      <th>Actual 1</th>\n",
       "      <td>163</td>\n",
       "      <td>212</td>\n",
       "    </tr>\n",
       "  </tbody>\n",
       "</table>\n",
       "</div>"
      ],
      "text/plain": [
       "          Predicted 0  Predicted 1\n",
       "Actual 0          255          120\n",
       "Actual 1          163          212"
      ]
     },
     "execution_count": 48,
     "metadata": {},
     "output_type": "execute_result"
    }
   ],
   "source": [
    "confusion_df = pd.DataFrame(confusion_matrix(y_test_in, y_pred_out))\n",
    "confusion_df.index = ['Actual 0','Actual 1']\n",
    "confusion_df.columns = ['Predicted 0','Predicted 1']\n",
    "confusion_df"
   ]
  },
  {
   "cell_type": "code",
   "execution_count": 49,
   "id": "1aaa734d-a34b-4702-a21f-9a22c59a052f",
   "metadata": {},
   "outputs": [
    {
     "data": {
      "image/png": "[encoded data removed]",
      "text/plain": [
       "<Figure size 1200x800 with 2 Axes>"
      ]
     },
     "metadata": {},
     "output_type": "display_data"
    }
   ],
   "source": [
    "plt.figure(figsize=(12, 8))\n",
    "sns.heatmap(confusion_df, annot=True, fmt='d', linewidths=0.5) \n",
    "plt.yticks(rotation=0)\n",
    "plt.xticks(rotation=45)\n",
    "plt.show()"
   ]
  },
  {
   "cell_type": "code",
   "execution_count": 158,
   "id": "352d44df-1486-4298-93b1-d2f1d11c77c8",
   "metadata": {},
   "outputs": [],
   "source": [
    "text=\"@newedge thanks for the follow, and the new icon looks great\""
   ]
  },
  {
   "cell_type": "code",
   "execution_count": 159,
   "id": "13638ddb-e546-423f-b716-bc0429f20e85",
   "metadata": {},
   "outputs": [
    {
     "data": {
      "text/plain": [
       "['@newedge thanks for the follow, and the new icon looks great<|endoftext|>']"
      ]
     },
     "execution_count": 159,
     "metadata": {},
     "output_type": "execute_result"
    }
   ],
   "source": [
    "sample_text=[text]\n",
    "EOS_TOKEN = \"<|endoftext|>\"\n",
    "sample_text=[str(ex) + EOS_TOKEN for ex in sample_text]\n",
    "sample_text"
   ]
  },
  {
   "cell_type": "code",
   "execution_count": 160,
   "id": "31be92a0-f6cb-4712-be4d-a85c12833e53",
   "metadata": {},
   "outputs": [
    {
     "name": "stdout",
     "output_type": "stream",
     "text": [
      "1/1 [==============================] - 0s 276ms/step\n"
     ]
    }
   ],
   "source": [
    "sample_text_ = [tokenizer(str(x), \n",
    "                return_tensors='tf', \n",
    "                max_length=MAX_LENGTH, \n",
    "                truncation=True, \n",
    "                pad_to_max_length=True, \n",
    "                add_special_tokens=True)['input_ids'] for x in sample_text]\n",
    "#sample_text_\n",
    "\n",
    "sample_text_mask_ = [tokenizer(str(x), \n",
    "                    return_tensors='tf', \n",
    "                    max_length=MAX_LENGTH, \n",
    "                    truncation=True, \n",
    "                    pad_to_max_length=True, \n",
    "                    add_special_tokens=True)[\"attention_mask\"] for x in sample_text]\n",
    "#sample_text_mask_\n",
    "#sample_text_mask = tf.squeeze(tf.convert_to_tensor(sample_text_mask_), axis=1)\n",
    "\n",
    "pred = clf.predict([sample_text_, sample_text_mask_])\n",
    "#pred\n",
    "pred_out = tf.math.argmax(pred, axis=1)\n",
    "pred_out=pred_out.numpy()\n",
    "#pred_out[0]"
   ]
  },
  {
   "cell_type": "code",
   "execution_count": 161,
   "id": "7abd7cd9-26de-4cdf-986f-e278627e7403",
   "metadata": {},
   "outputs": [
    {
     "name": "stdout",
     "output_type": "stream",
     "text": [
      "Input:  @newedge thanks for the follow, and the new icon looks great<|endoftext|>\n",
      "Sentiment:  Positive\n"
     ]
    }
   ],
   "source": [
    "print(\"Input: \",sample_text[0])\n",
    "print(\"Sentiment: \",\"Negative\" if pred_out[0]==0 else \"Positive\")"
   ]
  },
  {
   "cell_type": "code",
   "execution_count": 174,
   "id": "5607034b-d70d-47b1-9e15-7676cb4e60af",
   "metadata": {},
   "outputs": [],
   "source": [
    "clf.save_weights('./saved_weights/GPT2_sentiment')"
   ]
  },
  {
   "cell_type": "code",
   "execution_count": null,
   "id": "2468fe17-1bf1-4e1a-9a65-605b6ee2b452",
   "metadata": {},
   "outputs": [],
   "source": []
  }
 ],
 "metadata": {
  "kernelspec": {
   "display_name": "Python 3 (ipykernel)",
   "language": "python",
   "name": "python3"
  },
  "language_info": {
   "codemirror_mode": {
    "name": "ipython",
    "version": 3
   },
   "file_extension": ".py",
   "mimetype": "text/x-python",
   "name": "python",
   "nbconvert_exporter": "python",
   "pygments_lexer": "ipython3",
   "version": "3.9.13"
  }
 },
 "nbformat": 4,
 "nbformat_minor": 5
}
